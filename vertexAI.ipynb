{
 "cells": [
  {
   "cell_type": "code",
   "execution_count": 1,
   "id": "fe9e59bb",
   "metadata": {},
   "outputs": [],
   "source": [
    "# ---------------------\n",
    "# EDIT THESE BEFORE RUNNING\n",
    "PROJECT_ID = \"unext-1660103646868\"         # <--- e.g. \"my-vertex-demo\"\n",
    "SERVICE_ACCOUNT_JSON = r\"D:\\SUB\\NubeEra_work\\GCP-NuvePro\\unext-1660103646868-4283df77df53.json\"  # <--- upload your service account JSON to Colab, then set path\n",
    "LOCATION = \"us-central1\"               # recommended region (change if needed)\n",
    "# ---------------------\n"
   ]
  },
  {
   "cell_type": "markdown",
   "id": "bd142209",
   "metadata": {},
   "source": [
    "## 1. Install required libraries\n"
   ]
  },
  {
   "cell_type": "code",
   "execution_count": 2,
   "id": "5ef5edc9",
   "metadata": {},
   "outputs": [
    {
     "name": "stdout",
     "output_type": "stream",
     "text": [
      "Requirement already satisfied: google-cloud-aiplatform in d:\\python\\lib\\site-packages (1.122.0)\n",
      "Requirement already satisfied: google-cloud-documentai in d:\\python\\lib\\site-packages (3.7.0)\n",
      "Requirement already satisfied: google-cloud-storage in d:\\python\\lib\\site-packages (2.19.0)\n",
      "Collecting google-cloud-storage\n",
      "  Using cached google_cloud_storage-3.4.1-py3-none-any.whl.metadata (13 kB)\n",
      "Requirement already satisfied: google-cloud-retail in d:\\python\\lib\\site-packages (2.7.0)\n",
      "Requirement already satisfied: faiss-cpu in d:\\python\\lib\\site-packages (1.12.0)\n",
      "Requirement already satisfied: google-api-core!=2.0.*,!=2.1.*,!=2.2.*,!=2.3.*,!=2.4.*,!=2.5.*,!=2.6.*,!=2.7.*,<3.0.0,>=1.34.1 in d:\\python\\lib\\site-packages (from google-api-core[grpc]!=2.0.*,!=2.1.*,!=2.2.*,!=2.3.*,!=2.4.*,!=2.5.*,!=2.6.*,!=2.7.*,<3.0.0,>=1.34.1->google-cloud-aiplatform) (2.27.0)\n",
      "Requirement already satisfied: google-auth<3.0.0,>=2.14.1 in d:\\python\\lib\\site-packages (from google-cloud-aiplatform) (2.41.1)\n",
      "Requirement already satisfied: proto-plus<2.0.0,>=1.22.3 in d:\\python\\lib\\site-packages (from google-cloud-aiplatform) (1.26.1)\n",
      "Requirement already satisfied: protobuf!=4.21.0,!=4.21.1,!=4.21.2,!=4.21.3,!=4.21.4,!=4.21.5,<7.0.0,>=3.20.2 in d:\\python\\lib\\site-packages (from google-cloud-aiplatform) (5.28.2)\n",
      "Requirement already satisfied: packaging>=14.3 in d:\\python\\lib\\site-packages (from google-cloud-aiplatform) (25.0)\n",
      "Requirement already satisfied: google-cloud-bigquery!=3.20.0,<4.0.0,>=1.15.0 in d:\\python\\lib\\site-packages (from google-cloud-aiplatform) (3.38.0)\n",
      "Requirement already satisfied: google-cloud-resource-manager<3.0.0,>=1.3.3 in d:\\python\\lib\\site-packages (from google-cloud-aiplatform) (1.15.0)\n",
      "Requirement already satisfied: shapely<3.0.0 in d:\\python\\lib\\site-packages (from google-cloud-aiplatform) (2.0.7)\n",
      "Requirement already satisfied: google-genai<2.0.0,>=1.37.0 in d:\\python\\lib\\site-packages (from google-cloud-aiplatform) (1.46.0)\n",
      "Requirement already satisfied: pydantic<3 in d:\\python\\lib\\site-packages (from google-cloud-aiplatform) (2.12.3)\n",
      "Requirement already satisfied: typing_extensions in d:\\python\\lib\\site-packages (from google-cloud-aiplatform) (4.15.0)\n",
      "Requirement already satisfied: docstring_parser<1 in d:\\python\\lib\\site-packages (from google-cloud-aiplatform) (0.17.0)\n",
      "Requirement already satisfied: google-cloud-core<3.0dev,>=2.3.0 in d:\\python\\lib\\site-packages (from google-cloud-storage) (2.4.3)\n",
      "Requirement already satisfied: google-resumable-media>=2.7.2 in d:\\python\\lib\\site-packages (from google-cloud-storage) (2.7.2)\n",
      "Requirement already satisfied: requests<3.0.0dev,>=2.18.0 in d:\\python\\lib\\site-packages (from google-cloud-storage) (2.28.1)\n",
      "Requirement already satisfied: google-crc32c<2.0dev,>=1.0 in d:\\python\\lib\\site-packages (from google-cloud-storage) (1.7.1)\n",
      "Requirement already satisfied: googleapis-common-protos<2.0.0,>=1.56.2 in d:\\python\\lib\\site-packages (from google-api-core!=2.0.*,!=2.1.*,!=2.2.*,!=2.3.*,!=2.4.*,!=2.5.*,!=2.6.*,!=2.7.*,<3.0.0,>=1.34.1->google-api-core[grpc]!=2.0.*,!=2.1.*,!=2.2.*,!=2.3.*,!=2.4.*,!=2.5.*,!=2.6.*,!=2.7.*,<3.0.0,>=1.34.1->google-cloud-aiplatform) (1.71.0)\n",
      "Requirement already satisfied: grpcio<2.0.0,>=1.33.2 in d:\\python\\lib\\site-packages (from google-api-core[grpc]!=2.0.*,!=2.1.*,!=2.2.*,!=2.3.*,!=2.4.*,!=2.5.*,!=2.6.*,!=2.7.*,<3.0.0,>=1.34.1->google-cloud-aiplatform) (1.64.1)\n",
      "Requirement already satisfied: grpcio-status<2.0.0,>=1.33.2 in d:\\python\\lib\\site-packages (from google-api-core[grpc]!=2.0.*,!=2.1.*,!=2.2.*,!=2.3.*,!=2.4.*,!=2.5.*,!=2.6.*,!=2.7.*,<3.0.0,>=1.34.1->google-cloud-aiplatform) (1.64.1)\n",
      "Requirement already satisfied: cachetools<7.0,>=2.0.0 in d:\\python\\lib\\site-packages (from google-auth<3.0.0,>=2.14.1->google-cloud-aiplatform) (5.2.0)\n",
      "Requirement already satisfied: pyasn1-modules>=0.2.1 in d:\\python\\lib\\site-packages (from google-auth<3.0.0,>=2.14.1->google-cloud-aiplatform) (0.2.8)\n",
      "Requirement already satisfied: rsa<5,>=3.1.4 in d:\\python\\lib\\site-packages (from google-auth<3.0.0,>=2.14.1->google-cloud-aiplatform) (4.8)\n",
      "Requirement already satisfied: python-dateutil<3.0.0,>=2.8.2 in d:\\python\\lib\\site-packages (from google-cloud-bigquery!=3.20.0,<4.0.0,>=1.15.0->google-cloud-aiplatform) (2.8.2)\n",
      "Requirement already satisfied: grpc-google-iam-v1<1.0.0,>=0.14.0 in d:\\python\\lib\\site-packages (from google-cloud-resource-manager<3.0.0,>=1.3.3->google-cloud-aiplatform) (0.14.3)\n",
      "Requirement already satisfied: anyio<5.0.0,>=4.8.0 in d:\\python\\lib\\site-packages (from google-genai<2.0.0,>=1.37.0->google-cloud-aiplatform) (4.11.0)\n",
      "Requirement already satisfied: httpx<1.0.0,>=0.28.1 in d:\\python\\lib\\site-packages (from google-genai<2.0.0,>=1.37.0->google-cloud-aiplatform) (0.28.1)\n",
      "Requirement already satisfied: tenacity<9.2.0,>=8.2.3 in d:\\python\\lib\\site-packages (from google-genai<2.0.0,>=1.37.0->google-cloud-aiplatform) (9.1.2)\n",
      "Requirement already satisfied: websockets<15.1.0,>=13.0.0 in d:\\python\\lib\\site-packages (from google-genai<2.0.0,>=1.37.0->google-cloud-aiplatform) (15.0.1)\n",
      "Requirement already satisfied: exceptiongroup>=1.0.2 in d:\\python\\lib\\site-packages (from anyio<5.0.0,>=4.8.0->google-genai<2.0.0,>=1.37.0->google-cloud-aiplatform) (1.3.0)\n",
      "Requirement already satisfied: idna>=2.8 in d:\\python\\lib\\site-packages (from anyio<5.0.0,>=4.8.0->google-genai<2.0.0,>=1.37.0->google-cloud-aiplatform) (3.3)\n",
      "Requirement already satisfied: sniffio>=1.1 in d:\\python\\lib\\site-packages (from anyio<5.0.0,>=4.8.0->google-genai<2.0.0,>=1.37.0->google-cloud-aiplatform) (1.3.0)\n",
      "Requirement already satisfied: certifi in d:\\python\\lib\\site-packages (from httpx<1.0.0,>=0.28.1->google-genai<2.0.0,>=1.37.0->google-cloud-aiplatform) (2022.6.15)\n",
      "Requirement already satisfied: httpcore==1.* in d:\\python\\lib\\site-packages (from httpx<1.0.0,>=0.28.1->google-genai<2.0.0,>=1.37.0->google-cloud-aiplatform) (1.0.9)\n",
      "Requirement already satisfied: h11>=0.16 in d:\\python\\lib\\site-packages (from httpcore==1.*->httpx<1.0.0,>=0.28.1->google-genai<2.0.0,>=1.37.0->google-cloud-aiplatform) (0.16.0)\n",
      "Requirement already satisfied: annotated-types>=0.6.0 in d:\\python\\lib\\site-packages (from pydantic<3->google-cloud-aiplatform) (0.7.0)\n",
      "Requirement already satisfied: pydantic-core==2.41.4 in d:\\python\\lib\\site-packages (from pydantic<3->google-cloud-aiplatform) (2.41.4)\n",
      "Requirement already satisfied: typing-inspection>=0.4.2 in d:\\python\\lib\\site-packages (from pydantic<3->google-cloud-aiplatform) (0.4.2)\n",
      "Requirement already satisfied: six>=1.5 in d:\\python\\lib\\site-packages (from python-dateutil<3.0.0,>=2.8.2->google-cloud-bigquery!=3.20.0,<4.0.0,>=1.15.0->google-cloud-aiplatform) (1.16.0)\n",
      "Requirement already satisfied: charset-normalizer<3,>=2 in d:\\python\\lib\\site-packages (from requests<3.0.0dev,>=2.18.0->google-cloud-storage) (2.1.0)\n",
      "Requirement already satisfied: urllib3<1.27,>=1.21.1 in d:\\python\\lib\\site-packages (from requests<3.0.0dev,>=2.18.0->google-cloud-storage) (1.26.10)\n",
      "Requirement already satisfied: pyasn1>=0.1.3 in d:\\python\\lib\\site-packages (from rsa<5,>=3.1.4->google-auth<3.0.0,>=2.14.1->google-cloud-aiplatform) (0.4.8)\n",
      "Requirement already satisfied: numpy<3,>=1.14 in d:\\python\\lib\\site-packages (from shapely<3.0.0->google-cloud-aiplatform) (1.26.4)\n"
     ]
    },
    {
     "name": "stderr",
     "output_type": "stream",
     "text": [
      "WARNING: Ignoring invalid distribution -ip (d:\\python\\lib\\site-packages)\n",
      "WARNING: Ignoring invalid distribution -pencv-python (d:\\python\\lib\\site-packages)\n",
      "WARNING: Error parsing dependencies of mlflow: .* suffix can only be used with `==` or `!=` operators\n",
      "    scikit-learn (>=1.0.*) ; extra == 'pipelines'\n",
      "                  ~~~~~~^\n",
      "WARNING: Ignoring invalid distribution -ip (d:\\python\\lib\\site-packages)\n",
      "WARNING: Ignoring invalid distribution -pencv-python (d:\\python\\lib\\site-packages)\n",
      "WARNING: Ignoring invalid distribution -ip (d:\\python\\lib\\site-packages)\n",
      "WARNING: Ignoring invalid distribution -pencv-python (d:\\python\\lib\\site-packages)\n"
     ]
    }
   ],
   "source": [
    "!pip install --upgrade google-cloud-aiplatform google-cloud-documentai google-cloud-storage google-cloud-retail faiss-cpu\n"
   ]
  },
  {
   "cell_type": "markdown",
   "id": "075b35a4",
   "metadata": {},
   "source": [
    "## 2. Authenticate with service account\n"
   ]
  },
  {
   "cell_type": "code",
   "execution_count": 3,
   "id": "0bf233d7",
   "metadata": {},
   "outputs": [
    {
     "name": "stdout",
     "output_type": "stream",
     "text": [
      "GCP project set to: unext-1660103646868\n",
      "Credentials path: D:\\SUB\\NubeEra_work\\GCP-NuvePro\\unext-1660103646868-4283df77df53.json\n"
     ]
    }
   ],
   "source": [
    "import os\n",
    "assert PROJECT_ID != \"YOUR_PROJECT_ID\", \"Please set PROJECT_ID at the top of the notebook\"\n",
    "assert os.path.exists(SERVICE_ACCOUNT_JSON), f\"Service account JSON not found at {SERVICE_ACCOUNT_JSON}\"\n",
    "\n",
    "# Set environment variables for gcloud style auth and client libs\n",
    "os.environ[\"GOOGLE_APPLICATION_CREDENTIALS\"] = SERVICE_ACCOUNT_JSON\n",
    "os.environ[\"GOOGLE_CLOUD_PROJECT\"] = PROJECT_ID\n",
    "\n",
    "print(\"GCP project set to:\", PROJECT_ID)\n",
    "print(\"Credentials path:\", SERVICE_ACCOUNT_JSON)\n"
   ]
  },
  {
   "cell_type": "markdown",
   "id": "eb6eba2e",
   "metadata": {},
   "source": [
    "## 5. Model Garden demo — text generation with `text-bison`\n",
    "**Goal**: Use pre-trained foundation model to generate text. We'll use `google-cloud-aiplatform` Python client.\n",
    "\n",
    "> NOTE: Model names in Model Garden might update. If `text-bison@001` fails, check the Model Garden console or `aiplatform.list_models()` for available pretrained IDs.\n"
   ]
  },
  {
   "cell_type": "code",
   "execution_count": 4,
   "id": "71dd3615",
   "metadata": {},
   "outputs": [
    {
     "name": "stdout",
     "output_type": "stream",
     "text": [
      "Model Garden demo failed: module 'google.cloud.aiplatform' has no attribute 'TextGenerationModel'\n",
      "Possible causes: model name changed or client library updated. You can list available models with aiplatform models list or check Model Garden in Console.\n"
     ]
    }
   ],
   "source": [
    "from google.cloud import aiplatform\n",
    "aiplatform.init(project=PROJECT_ID, location=LOCATION)\n",
    "\n",
    "# Example with the TextGenerationModel wrapper\n",
    "try:\n",
    "    model = aiplatform.TextGenerationModel.from_pretrained(\"text-bison@001\")\n",
    "    prompt = \"Explain how Retail personalization improves customer experience in 3 simple bullet points.\"\n",
    "    resp = model.predict(prompt, max_output_tokens=256)\n",
    "    print(\"=== Model Garden (text-bison) output ===\")\n",
    "    print(resp.text)\n",
    "except Exception as e:\n",
    "    print(\"Model Garden demo failed:\", e)\n",
    "    print(\"Possible causes: model name changed or client library updated. You can list available models with aiplatform models list or check Model Garden in Console.\")\n"
   ]
  },
  {
   "cell_type": "code",
   "execution_count": 6,
   "id": "04705b73",
   "metadata": {},
   "outputs": [
    {
     "name": "stdout",
     "output_type": "stream",
     "text": [
      "NumPy: 1.26.4\n",
      "Pandas: 2.2.2\n",
      "gRPC: 1.64.1\n",
      "Vertex AI SDK: 1.122.0\n"
     ]
    }
   ],
   "source": [
    "import numpy, pandas, grpc, google.cloud.aiplatform as aiplatform\n",
    "print(\"NumPy:\", numpy.__version__)\n",
    "print(\"Pandas:\", pandas.__version__)\n",
    "print(\"gRPC:\", grpc.__version__)\n",
    "print(\"Vertex AI SDK:\", aiplatform.__version__)\n"
   ]
  },
  {
   "cell_type": "code",
   "execution_count": 8,
   "id": "c44966ab",
   "metadata": {},
   "outputs": [],
   "source": [
    "from google.cloud import aiplatform\n",
    "aiplatform.init(project=\"unext-1660103646868\", location=\"us-central1\")\n",
    "\n",
    "for model in aiplatform.Model.list():\n",
    "    print(model.display_name)\n",
    "    \n"
   ]
  },
  {
   "cell_type": "code",
   "execution_count": 14,
   "id": "d840a3da",
   "metadata": {},
   "outputs": [
    {
     "name": "stderr",
     "output_type": "stream",
     "text": [
      "WARNING: Ignoring invalid distribution -ip (d:\\python\\lib\\site-packages)\n",
      "WARNING: Ignoring invalid distribution -pencv-python (d:\\python\\lib\\site-packages)\n",
      "WARNING: google-cloud-aiplatform 1.66.0 does not provide the extra 'all'\n",
      "WARNING: Error parsing dependencies of mlflow: .* suffix can only be used with `==` or `!=` operators\n",
      "    scikit-learn (>=1.0.*) ; extra == 'pipelines'\n",
      "                  ~~~~~~^\n",
      "WARNING: Ignoring invalid distribution -ip (d:\\python\\lib\\site-packages)\n",
      "WARNING: Ignoring invalid distribution -pencv-python (d:\\python\\lib\\site-packages)\n",
      "WARNING: Ignoring invalid distribution -ip (d:\\python\\lib\\site-packages)\n",
      "WARNING: Ignoring invalid distribution -pencv-python (d:\\python\\lib\\site-packages)\n"
     ]
    }
   ],
   "source": [
    "!pip install -q faiss-cpu vertexai google-cloud-aiplatform\n"
   ]
  },
  {
   "cell_type": "code",
   "execution_count": 16,
   "id": "40643d98",
   "metadata": {},
   "outputs": [
    {
     "name": "stdout",
     "output_type": "stream",
     "text": [
      "Found existing installation: vertexai 1.66.0\n",
      "Uninstalling vertexai-1.66.0:\n",
      "  Successfully uninstalled vertexai-1.66.0\n"
     ]
    }
   ],
   "source": [
    "!pip uninstall -y vertexai"
   ]
  },
  {
   "cell_type": "code",
   "execution_count": 17,
   "id": "c23b6c48",
   "metadata": {},
   "outputs": [
    {
     "name": "stdout",
     "output_type": "stream",
     "text": [
      "Requirement already satisfied: google-genai in d:\\python\\lib\\site-packages (1.46.0)\n",
      "Requirement already satisfied: anyio<5.0.0,>=4.8.0 in d:\\python\\lib\\site-packages (from google-genai) (4.11.0)\n",
      "Requirement already satisfied: google-auth<3.0.0,>=2.14.1 in d:\\python\\lib\\site-packages (from google-genai) (2.41.1)\n",
      "Requirement already satisfied: httpx<1.0.0,>=0.28.1 in d:\\python\\lib\\site-packages (from google-genai) (0.28.1)\n",
      "Requirement already satisfied: pydantic<3.0.0,>=2.0.0 in d:\\python\\lib\\site-packages (from google-genai) (2.12.3)\n",
      "Requirement already satisfied: requests<3.0.0,>=2.28.1 in d:\\python\\lib\\site-packages (from google-genai) (2.28.1)\n",
      "Requirement already satisfied: tenacity<9.2.0,>=8.2.3 in d:\\python\\lib\\site-packages (from google-genai) (9.1.2)\n",
      "Requirement already satisfied: websockets<15.1.0,>=13.0.0 in d:\\python\\lib\\site-packages (from google-genai) (15.0.1)\n",
      "Requirement already satisfied: typing-extensions<5.0.0,>=4.11.0 in d:\\python\\lib\\site-packages (from google-genai) (4.15.0)\n",
      "Requirement already satisfied: exceptiongroup>=1.0.2 in d:\\python\\lib\\site-packages (from anyio<5.0.0,>=4.8.0->google-genai) (1.3.0)\n",
      "Requirement already satisfied: idna>=2.8 in d:\\python\\lib\\site-packages (from anyio<5.0.0,>=4.8.0->google-genai) (3.3)\n",
      "Requirement already satisfied: sniffio>=1.1 in d:\\python\\lib\\site-packages (from anyio<5.0.0,>=4.8.0->google-genai) (1.3.0)\n",
      "Requirement already satisfied: cachetools<7.0,>=2.0.0 in d:\\python\\lib\\site-packages (from google-auth<3.0.0,>=2.14.1->google-genai) (5.2.0)\n",
      "Requirement already satisfied: pyasn1-modules>=0.2.1 in d:\\python\\lib\\site-packages (from google-auth<3.0.0,>=2.14.1->google-genai) (0.2.8)\n",
      "Requirement already satisfied: rsa<5,>=3.1.4 in d:\\python\\lib\\site-packages (from google-auth<3.0.0,>=2.14.1->google-genai) (4.8)\n",
      "Requirement already satisfied: certifi in d:\\python\\lib\\site-packages (from httpx<1.0.0,>=0.28.1->google-genai) (2022.6.15)\n",
      "Requirement already satisfied: httpcore==1.* in d:\\python\\lib\\site-packages (from httpx<1.0.0,>=0.28.1->google-genai) (1.0.9)\n",
      "Requirement already satisfied: h11>=0.16 in d:\\python\\lib\\site-packages (from httpcore==1.*->httpx<1.0.0,>=0.28.1->google-genai) (0.16.0)\n",
      "Requirement already satisfied: annotated-types>=0.6.0 in d:\\python\\lib\\site-packages (from pydantic<3.0.0,>=2.0.0->google-genai) (0.7.0)\n",
      "Requirement already satisfied: pydantic-core==2.41.4 in d:\\python\\lib\\site-packages (from pydantic<3.0.0,>=2.0.0->google-genai) (2.41.4)\n",
      "Requirement already satisfied: typing-inspection>=0.4.2 in d:\\python\\lib\\site-packages (from pydantic<3.0.0,>=2.0.0->google-genai) (0.4.2)\n",
      "Requirement already satisfied: charset-normalizer<3,>=2 in d:\\python\\lib\\site-packages (from requests<3.0.0,>=2.28.1->google-genai) (2.1.0)\n",
      "Requirement already satisfied: urllib3<1.27,>=1.21.1 in d:\\python\\lib\\site-packages (from requests<3.0.0,>=2.28.1->google-genai) (1.26.10)\n",
      "Requirement already satisfied: pyasn1>=0.1.3 in d:\\python\\lib\\site-packages (from rsa<5,>=3.1.4->google-auth<3.0.0,>=2.14.1->google-genai) (0.4.8)\n"
     ]
    },
    {
     "name": "stderr",
     "output_type": "stream",
     "text": [
      "WARNING: Ignoring invalid distribution -ip (d:\\python\\lib\\site-packages)\n",
      "WARNING: Ignoring invalid distribution -pencv-python (d:\\python\\lib\\site-packages)\n",
      "WARNING: Error parsing dependencies of mlflow: .* suffix can only be used with `==` or `!=` operators\n",
      "    scikit-learn (>=1.0.*) ; extra == 'pipelines'\n",
      "                  ~~~~~~^\n",
      "WARNING: Ignoring invalid distribution -ip (d:\\python\\lib\\site-packages)\n",
      "WARNING: Ignoring invalid distribution -pencv-python (d:\\python\\lib\\site-packages)\n",
      "WARNING: Ignoring invalid distribution -ip (d:\\python\\lib\\site-packages)\n",
      "WARNING: Ignoring invalid distribution -pencv-python (d:\\python\\lib\\site-packages)\n"
     ]
    }
   ],
   "source": [
    "!pip install --upgrade google-genai"
   ]
  },
  {
   "cell_type": "markdown",
   "id": "cf138990",
   "metadata": {},
   "source": [
    "2️⃣ Imports & Initialization"
   ]
  },
  {
   "cell_type": "code",
   "execution_count": 24,
   "id": "a64f26d9",
   "metadata": {},
   "outputs": [],
   "source": [
    "from google.genai import Client\n",
    "from google.cloud import aiplatform\n",
    "\n",
    "# Initialize Vertex AI for embeddings and client\n",
    "PROJECT_ID = \"unext-1660103646868\"\n",
    "LOCATION = \"us-central1\"\n",
    "SERVICE_ACCOUNT_JSON = r\"D:\\SUB\\NubeEra_work\\GCP-NuvePro\\unext-1660103646868-4283df77df53.json\"  # your service account JSON\n",
    "\n",
    "# Set environment variables for authentication\n",
    "import os\n",
    "os.environ[\"GOOGLE_APPLICATION_CREDENTIALS\"] = SERVICE_ACCOUNT_JSON\n",
    "\n",
    "# Initialize Vertex AI SDK (needed for embeddings)\n",
    "aiplatform.init(project=PROJECT_ID, location=LOCATION)\n",
    "\n",
    "# Initialize Google Gen AI client using Vertex AI credentials\n",
    "client = Client(vertexai=True, project=PROJECT_ID, location=LOCATION)\n"
   ]
  },
  {
   "cell_type": "code",
   "execution_count": 27,
   "id": "3eb07a16",
   "metadata": {},
   "outputs": [
    {
     "name": "stdout",
     "output_type": "stream",
     "text": [
      "Imagine you want to build a helpful robot that can answer questions, book appointments, or complete tasks for your customers. Vertex AI Agent Builder is like a set of tools and building blocks that Google provides to make creating that robot much easier.\n",
      "\n",
      "Instead of having to write complex code from scratch, you can use Agent Builder to:\n",
      "\n",
      "*   **Define what your robot needs to know:** You feed it information like documents, websites, or databases.\n",
      "*   **Teach it how to understand questions:**  It uses advanced AI to understand the meaning behind user questions, even if they're phrased differently.\n",
      "*   **Design how it should respond and take action:** You can customize the robot's responses and tell it how to perform specific tasks (like booking a flight).\n",
      "*   **Test and improve it easily:** Agent Builder allows you to test and refine your robot's performance to make it more accurate and helpful over time.\n",
      "\n",
      "**In short, Vertex AI Agent Builder is a platform that helps you build and deploy intelligent \"robots\" (AI agents) that can automate tasks and interact with users in a natural and helpful way.** It saves you time and effort by providing pre-built tools and AI models to handle the complexities of understanding language and taking actions.\n",
      "\n"
     ]
    }
   ],
   "source": [
    "prompt = \"Explain what Vertex AI Agent Builder is in simple terms.\"\n",
    "response = client.models.generate_content(\n",
    "    model=\"gemini-2.0-flash-001\",\n",
    "    contents=[prompt]\n",
    ")\n",
    "print(response.text)\n"
   ]
  },
  {
   "cell_type": "markdown",
   "id": "ee906d96",
   "metadata": {},
   "source": [
    "3️⃣ Prepare Knowledge Base"
   ]
  },
  {
   "cell_type": "code",
   "execution_count": 28,
   "id": "e9759d88",
   "metadata": {},
   "outputs": [],
   "source": [
    "documents = [\n",
    "    \"Vertex AI lets you train, tune, and deploy ML models at scale on Google Cloud.\",\n",
    "    \"Vertex AI Agent Builder allows creating conversational AI agents using retrieval-augmented generation.\",\n",
    "    \"Document AI can extract structured data from unstructured documents like invoices.\",\n",
    "    \"Retail API helps personalize product recommendations and search for e-commerce applications.\"\n",
    "]\n"
   ]
  },
  {
   "cell_type": "markdown",
   "id": "8faff381",
   "metadata": {},
   "source": [
    "4️⃣ Create Embeddings"
   ]
  },
  {
   "cell_type": "code",
   "execution_count": 30,
   "id": "1a5f644c",
   "metadata": {},
   "outputs": [
    {
     "name": "stdout",
     "output_type": "stream",
     "text": [
      "✅ Created embeddings shape: (4, 3072)\n"
     ]
    }
   ],
   "source": [
    "import os\n",
    "import numpy as np\n",
    "import faiss\n",
    "import textwrap\n",
    "\n",
    "from google.cloud import aiplatform\n",
    "from google.genai import Client\n",
    "from vertexai.language_models import TextEmbeddingModel\n",
    "\n",
    "# Load Vertex AI embedding model\n",
    "embed_model = TextEmbeddingModel.from_pretrained(\"gemini-embedding-001\")\n",
    "\n",
    "# Generate embeddings\n",
    "embeddings = embed_model.get_embeddings(documents)\n",
    "vectors = np.array([e.values for e in embeddings]).astype(\"float32\")\n",
    "print(\"✅ Created embeddings shape:\", vectors.shape)\n"
   ]
  },
  {
   "cell_type": "markdown",
   "id": "3f38197a",
   "metadata": {},
   "source": [
    "5️⃣ Build FAISS Index"
   ]
  },
  {
   "cell_type": "code",
   "execution_count": 31,
   "id": "ca20534c",
   "metadata": {},
   "outputs": [
    {
     "name": "stdout",
     "output_type": "stream",
     "text": [
      "✅ Added 4 vectors to FAISS index\n"
     ]
    }
   ],
   "source": [
    "dimension = vectors.shape[1]\n",
    "index = faiss.IndexFlatL2(dimension)\n",
    "index.add(vectors)\n",
    "print(f\"✅ Added {index.ntotal} vectors to FAISS index\")\n"
   ]
  },
  {
   "cell_type": "markdown",
   "id": "35fb685d",
   "metadata": {},
   "source": [
    "6️⃣ Define Retrieval Function"
   ]
  },
  {
   "cell_type": "code",
   "execution_count": 32,
   "id": "8fe7d1b7",
   "metadata": {},
   "outputs": [],
   "source": [
    "def retrieve_similar_docs(query, k=2):\n",
    "    q_emb = embed_model.get_embeddings([query])[0].values\n",
    "    q_vec = np.array([q_emb]).astype(\"float32\")\n",
    "    distances, indices = index.search(q_vec, k)\n",
    "    return [documents[i] for i in indices[0]]\n"
   ]
  },
  {
   "cell_type": "markdown",
   "id": "13062ae0",
   "metadata": {},
   "source": [
    "7️⃣ Define RAG Query Function"
   ]
  },
  {
   "cell_type": "code",
   "execution_count": 35,
   "id": "efbf92fd",
   "metadata": {},
   "outputs": [],
   "source": [
    "def ask_with_rag(query):\n",
    "    # Retrieve top-k relevant documents\n",
    "    context_docs = retrieve_similar_docs(query)\n",
    "    context = \"\\n\\n\".join(context_docs)\n",
    "    \n",
    "    # Prepare prompt\n",
    "    prompt = f\"Use the context below to answer the question.\\n\\nContext:\\n{context}\\n\\nQuestion: {query}\\nAnswer:\"\n",
    "    \n",
    "    # Generate response using Gen AI\n",
    "    response = client.models.generate_content(\n",
    "        model=\"gemini-2.0-flash-001\",\n",
    "        contents=[prompt]\n",
    "    )\n",
    "    return response.text\n"
   ]
  },
  {
   "cell_type": "markdown",
   "id": "ae84f6d3",
   "metadata": {},
   "source": [
    "8️⃣ Test Your RAG Agent"
   ]
  },
  {
   "cell_type": "code",
   "execution_count": 36,
   "id": "b4a70df7",
   "metadata": {},
   "outputs": [
    {
     "name": "stdout",
     "output_type": "stream",
     "text": [
      "Question: How can I create a conversational AI agent with Vertex AI?\n",
      "\n",
      "Answer:\n",
      "You can use Vertex AI Agent Builder to create conversational AI agents.\n"
     ]
    }
   ],
   "source": [
    "question = \"How can I create a conversational AI agent with Vertex AI?\"\n",
    "answer = ask_with_rag(question)\n",
    "\n",
    "print(\"Question:\", question)\n",
    "print(\"\\nAnswer:\")\n",
    "print(textwrap.fill(answer, width=100))\n"
   ]
  }
 ],
 "metadata": {
  "kernelspec": {
   "display_name": "Python 3",
   "language": "python",
   "name": "python3"
  },
  "language_info": {
   "codemirror_mode": {
    "name": "ipython",
    "version": 3
   },
   "file_extension": ".py",
   "mimetype": "text/x-python",
   "name": "python",
   "nbconvert_exporter": "python",
   "pygments_lexer": "ipython3",
   "version": "3.9.7"
  }
 },
 "nbformat": 4,
 "nbformat_minor": 5
}
